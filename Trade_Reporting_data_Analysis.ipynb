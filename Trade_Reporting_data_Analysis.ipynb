{
  "nbformat": 4,
  "nbformat_minor": 0,
  "metadata": {
    "colab": {
      "provenance": [],
      "authorship_tag": "ABX9TyM0Of3T7NO0XkzMVPVeupER",
      "include_colab_link": true
    },
    "kernelspec": {
      "name": "python3",
      "display_name": "Python 3"
    },
    "language_info": {
      "name": "python"
    }
  },
  "cells": [
    {
      "cell_type": "markdown",
      "metadata": {
        "id": "view-in-github",
        "colab_type": "text"
      },
      "source": [
        "<a href=\"https://colab.research.google.com/github/kastrahl/Assessments/blob/main/Trade_Reporting_data_Analysis.ipynb\" target=\"_parent\"><img src=\"https://colab.research.google.com/assets/colab-badge.svg\" alt=\"Open In Colab\"/></a>"
      ]
    },
    {
      "cell_type": "markdown",
      "source": [
        "Problem 1\n",
        "1. Exploratory Data Analysis and provide insight from the data: Conduct analysis on the dataset\n",
        "to gather insights and generate relevant statistics.\n",
        "2. Data Visualization: Create visualizations to present the results of the data analysis.\n",
        "3. Reporting: Generate a summary report that presents the findings from the data analysis and\n",
        "visualizations. Include key insights.\n"
      ],
      "metadata": {
        "id": "zhopWXmJgDsa"
      }
    },
    {
      "cell_type": "markdown",
      "source": [
        "Approach\n",
        "1. EDA\n",
        "\n",
        "\n",
        "\n",
        "*   Import Libraries and Load Dataset\n",
        "*   Check for Missing Values\n",
        "*   Visualizing the Missing Values\n",
        "*   Replacing the Missing Values\n",
        "*   Asking Analytical Questions and Visualizations\n",
        "\n",
        "\n",
        "\n",
        "\n",
        "\n",
        "\n",
        "\n",
        "\n",
        "\n",
        "\n",
        "\n"
      ],
      "metadata": {
        "id": "9Pd11bXCgTsQ"
      }
    },
    {
      "cell_type": "markdown",
      "source": [
        "Load the dataset"
      ],
      "metadata": {
        "id": "q5wc247NcK2w"
      }
    },
    {
      "cell_type": "code",
      "execution_count": null,
      "metadata": {
        "id": "_4blcnhGb19P"
      },
      "outputs": [],
      "source": [
        "import numpy as np\n",
        "import pandas as pd\n",
        "import matplotlib.pyplot as plt\n",
        "import seaborn as sns"
      ]
    },
    {
      "cell_type": "code",
      "source": [
        "url = \"https://raw.githubusercontent.com/malikjb35/pythonTest/main/Testdata.csv\"\n",
        "df = pd.read_csv(url)\n",
        "print(df.head())\n",
        "\n",
        "cols=['tradeId','regulator','version','assetClass','clDateTime','clStatus','cflag','eFlag','cDateTime','method','rate','expirationDate','eventT','mType','Timestamp','quantity','seller','endDate','sType','Product','price','terminationDate','party','PartyId','transactionType','Reporting Status']\n",
        "df.columns=cols\n"
      ],
      "metadata": {
        "id": "864XRSskcL94"
      },
      "execution_count": null,
      "outputs": []
    },
    {
      "cell_type": "markdown",
      "source": [
        "Exploratory Data Analysis <br>\n",
        "Summary statistics"
      ],
      "metadata": {
        "id": "zgO4jaUScaIx"
      }
    },
    {
      "cell_type": "code",
      "source": [
        "df.head(5)"
      ],
      "metadata": {
        "id": "n3mXcGQJxBwy"
      },
      "execution_count": null,
      "outputs": []
    },
    {
      "cell_type": "code",
      "source": [
        "print(df.info())"
      ],
      "metadata": {
        "colab": {
          "base_uri": "https://localhost:8080/"
        },
        "id": "4C9GMc6OptqK",
        "outputId": "ab3e5e9f-3a2d-4737-855d-330b96e4bedf"
      },
      "execution_count": null,
      "outputs": [
        {
          "output_type": "stream",
          "name": "stdout",
          "text": [
            "<class 'pandas.core.frame.DataFrame'>\n",
            "RangeIndex: 50000 entries, 0 to 49999\n",
            "Data columns (total 26 columns):\n",
            " #   Column            Non-Null Count  Dtype  \n",
            "---  ------            --------------  -----  \n",
            " 0   tradeId           50000 non-null  int64  \n",
            " 1   regulator         50000 non-null  object \n",
            " 2   version           50000 non-null  int64  \n",
            " 3   assetClass        50000 non-null  object \n",
            " 4   clDateTime        50000 non-null  object \n",
            " 5   clStatus          50000 non-null  bool   \n",
            " 6   cflag             50000 non-null  object \n",
            " 7   eFlag             50000 non-null  bool   \n",
            " 8   cDateTime         50000 non-null  object \n",
            " 9   method            50000 non-null  object \n",
            " 10  rate              50000 non-null  float64\n",
            " 11  expirationDate    50000 non-null  object \n",
            " 12  eventT            50000 non-null  object \n",
            " 13  mType             50000 non-null  object \n",
            " 14  Timestamp         50000 non-null  object \n",
            " 15  quantity          50000 non-null  object \n",
            " 16  seller            50000 non-null  object \n",
            " 17  endDate           50000 non-null  object \n",
            " 18  sType             50000 non-null  object \n",
            " 19  Product           50000 non-null  object \n",
            " 20  price             15014 non-null  float64\n",
            " 21  terminationDate   43791 non-null  object \n",
            " 22  party             50000 non-null  object \n",
            " 23  PartyId           50000 non-null  int64  \n",
            " 24  transactionType   50000 non-null  object \n",
            " 25  Reporting Status  50000 non-null  object \n",
            "dtypes: bool(2), float64(2), int64(3), object(19)\n",
            "memory usage: 9.3+ MB\n",
            "None\n"
          ]
        }
      ]
    },
    {
      "cell_type": "code",
      "source": [
        "print(df.describe())"
      ],
      "metadata": {
        "colab": {
          "base_uri": "https://localhost:8080/"
        },
        "id": "nkQYv1CMxH8y",
        "outputId": "b708c52c-c8d4-4683-8174-661b9c7c6cfc"
      },
      "execution_count": null,
      "outputs": [
        {
          "output_type": "stream",
          "name": "stdout",
          "text": [
            "            tradeId       version          rate          price       PartyId\n",
            "count  50000.000000  50000.000000  50000.000000   15014.000000  50000.000000\n",
            "mean   25000.500000      4.991940   4985.640510  502292.898972      3.163600\n",
            "std    14433.901067      2.593339   2892.605229  288205.734165      1.342919\n",
            "min        1.000000      1.000000      0.630700     108.503208      1.000000\n",
            "25%    12500.750000      3.000000   2473.364300  253646.139675      2.000000\n",
            "50%    25000.500000      5.000000   4988.018500  501724.834200      3.000000\n",
            "75%    37500.250000      7.000000   7484.013200  751081.198725      4.000000\n",
            "max    50000.000000      9.000000   9999.865100  999940.821500      5.000000\n"
          ]
        }
      ]
    },
    {
      "cell_type": "code",
      "source": [
        "print(df.isnull().sum())\n",
        "\n",
        "summary_stats = df.describe()"
      ],
      "metadata": {
        "id": "jWbT-cNYcWRp",
        "colab": {
          "base_uri": "https://localhost:8080/",
          "height": 183
        },
        "outputId": "6380ce8e-34f3-43af-9e9e-06fdc1ea978d"
      },
      "execution_count": 1,
      "outputs": [
        {
          "output_type": "error",
          "ename": "NameError",
          "evalue": "name 'df' is not defined",
          "traceback": [
            "\u001b[0;31m---------------------------------------------------------------------------\u001b[0m",
            "\u001b[0;31mNameError\u001b[0m                                 Traceback (most recent call last)",
            "\u001b[0;32m<ipython-input-1-796c27580ed8>\u001b[0m in \u001b[0;36m<cell line: 1>\u001b[0;34m()\u001b[0m\n\u001b[0;32m----> 1\u001b[0;31m \u001b[0mprint\u001b[0m\u001b[0;34m(\u001b[0m\u001b[0mdf\u001b[0m\u001b[0;34m.\u001b[0m\u001b[0misnull\u001b[0m\u001b[0;34m(\u001b[0m\u001b[0;34m)\u001b[0m\u001b[0;34m.\u001b[0m\u001b[0msum\u001b[0m\u001b[0;34m(\u001b[0m\u001b[0;34m)\u001b[0m\u001b[0;34m)\u001b[0m\u001b[0;34m\u001b[0m\u001b[0;34m\u001b[0m\u001b[0m\n\u001b[0m\u001b[1;32m      2\u001b[0m \u001b[0;34m\u001b[0m\u001b[0m\n\u001b[1;32m      3\u001b[0m \u001b[0msummary_stats\u001b[0m \u001b[0;34m=\u001b[0m \u001b[0mdf\u001b[0m\u001b[0;34m.\u001b[0m\u001b[0mdescribe\u001b[0m\u001b[0;34m(\u001b[0m\u001b[0;34m)\u001b[0m\u001b[0;34m\u001b[0m\u001b[0;34m\u001b[0m\u001b[0m\n",
            "\u001b[0;31mNameError\u001b[0m: name 'df' is not defined"
          ]
        }
      ]
    },
    {
      "cell_type": "markdown",
      "source": [
        "Data Visualization  <br>\n",
        "Histogram of numerical features"
      ],
      "metadata": {
        "id": "CIuazwfocpAJ"
      }
    },
    {
      "cell_type": "code",
      "source": [
        "numerical_features = df.select_dtypes(include=['int64', 'float64']).columns\n",
        "for feature in numerical_features:\n",
        "    plt.figure(figsize=(8, 6))\n",
        "    sns.histplot(df[feature], kde=True)\n",
        "    plt.title(f'Histogram of {feature}')\n",
        "    plt.xlabel(feature)\n",
        "    plt.ylabel('Frequency')\n",
        "    plt.show()"
      ],
      "metadata": {
        "id": "CdHhjQ_ccRYY"
      },
      "execution_count": null,
      "outputs": []
    },
    {
      "cell_type": "markdown",
      "source": [
        "Boxplot of numerical features"
      ],
      "metadata": {
        "id": "ae7YEVyZcvuw"
      }
    },
    {
      "cell_type": "code",
      "source": [
        "for feature in numerical_features:\n",
        "    plt.figure(figsize=(8, 6))\n",
        "    sns.boxplot(y=df[feature])\n",
        "    plt.title(f'Boxplot of {feature}')\n",
        "    plt.ylabel(feature)\n",
        "    plt.show()\n",
        "\n",
        "# Reporting\n",
        "print(summary_stats)\n",
        "# Additional insights based on the analysis"
      ],
      "metadata": {
        "id": "kDydZiHjcyqn"
      },
      "execution_count": null,
      "outputs": []
    }
  ]
}